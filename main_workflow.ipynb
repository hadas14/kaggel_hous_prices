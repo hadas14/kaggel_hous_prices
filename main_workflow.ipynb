{
 "cells": [
  {
   "cell_type": "code",
   "execution_count": 245,
   "metadata": {
    "collapsed": false,
    "deletable": true,
    "editable": true
   },
   "outputs": [],
   "source": [
    "import numpy as np\n",
    "import pandas as pd\n",
    "import seaborn as sns\n",
    "import matplotlib.pyplot as plt\n",
    "from sklearn.model_selection import train_test_split\n",
    "from sklearn.model_selection import GridSearchCV\n",
    "import xgboost as XGB\n",
    "from sklearn.metrics import mean_squared_error\n",
    "from sklearn.metrics import make_scorer\n",
    "from sklearn.model_selection import ShuffleSplit\n",
    "from sklearn.model_selection import learning_curve\n",
    "from sklearn.model_selection import validation_curve\n",
    "from sklearn.svm import SVC\n",
    "\n",
    "from sets import Set\n",
    "import math\n",
    "%matplotlib inline\n"
   ]
  },
  {
   "cell_type": "code",
   "execution_count": 2,
   "metadata": {
    "collapsed": true
   },
   "outputs": [],
   "source": [
    "def years_since_built(df):\n",
    "    df[\"YearSinceBuilt\"] = df[\"YrSold\"] - df[\"YearBuilt\"]\n"
   ]
  },
  {
   "cell_type": "code",
   "execution_count": 3,
   "metadata": {
    "collapsed": true
   },
   "outputs": [],
   "source": [
    "def years_since_remodAdd(df):\n",
    "    df[\"YearSinceRemodAdd\"] = df[\"YrSold\"] - df[\"YearRemodAdd\"]"
   ]
  },
  {
   "cell_type": "code",
   "execution_count": 4,
   "metadata": {
    "collapsed": true
   },
   "outputs": [],
   "source": [
    "def compute_years_and_was_remodAdd(df):\n",
    "    years_since_remodAdd(df)\n",
    "    def check_remodAdd (row):\n",
    "        if row['YearSinceRemodAdd'] > 0 :\n",
    "            return '1'\n",
    "        return '0'\n",
    "    df[\"wasRemodAdd\"] = df.apply (lambda row: check_remodAdd (row),axis=1).astype(int)\n"
   ]
  },
  {
   "cell_type": "code",
   "execution_count": 5,
   "metadata": {
    "collapsed": true,
    "deletable": true,
    "editable": true
   },
   "outputs": [],
   "source": [
    "def create_total_sf(df):\n",
    "    df['TotalSF'] = df['TotalBsmtSF'] + df['1stFlrSF'] + df['2ndFlrSF'] \n",
    "    "
   ]
  },
  {
   "cell_type": "code",
   "execution_count": 6,
   "metadata": {
    "collapsed": false,
    "deletable": true,
    "editable": true
   },
   "outputs": [],
   "source": [
    "def standardize_numerical_features(df,feature_list):\n",
    "    for feature in feature_list:\n",
    "        feature_series= df.loc[:,feature]\n",
    "        df.loc[:,feature] = (feature_series - feature_series.mean())/feature_series.std()"
   ]
  },
  {
   "cell_type": "code",
   "execution_count": 7,
   "metadata": {
    "collapsed": false
   },
   "outputs": [],
   "source": [
    "def one_hot_categorical(df,categorical_features):\n",
    "    dummy_variables = []\n",
    "    for feature in categorical_features:\n",
    "        one_hot = pd.get_dummies(df[[feature]].astype(str))\n",
    "        dummy_variables.extend(list(one_hot))\n",
    "        df = pd.concat([df, one_hot], axis=1)\n",
    "    return df, dummy_variables"
   ]
  },
  {
   "cell_type": "code",
   "execution_count": 8,
   "metadata": {
    "collapsed": true
   },
   "outputs": [],
   "source": [
    "def has_basement(all_data):\n",
    "    all_data['HasBsmt'] = pd.Series(len(all_data['TotalBsmtSF']), index=all_data.index)\n",
    "    all_data['HasBsmt'] = 0 \n",
    "    all_data.loc[all_data['TotalBsmtSF']>0,'HasBsmt'] = 1"
   ]
  },
  {
   "cell_type": "code",
   "execution_count": 371,
   "metadata": {
    "collapsed": false
   },
   "outputs": [],
   "source": [
    "#Loading data\n",
    "all_data = pd.read_csv('train.csv')\n",
    "\n",
    "#Declaring features\n",
    "numerical_features = ['TotalSF',\"GrLivArea\",'YearSinceRemodAdd','YearSinceBuilt','TotRmsAbvGrd', 'GarageCars',\n",
    "                      'OverallGrade','TotalBath','LotArea','ExterCond','HeatingQC','BsmtExposure','Fence']\n",
    "categorical_features = ['MSSubClass','MSZoning','Street','LotShape','MasVnrType','SaleCondition','SaleType']\n",
    "binary_features = ['wasRemodAdd','HasBsmt','HighSeason','Neighborhood_Good']\n",
    "#feature engineering\n",
    "\n",
    "create_total_sf(all_data)\n",
    "years_since_built(all_data)\n",
    "compute_years_and_was_remodAdd(all_data)\n",
    "has_basement(all_data)\n",
    "\n",
    "all_data = all_data.replace({\"ExterCond\" : {\"Po\" : 1, \"Fa\" : 2, \"TA\": 3, \"Gd\": 4, \"Ex\" : 5},\n",
    "                       \"HeatingQC\" : {\"Po\" : 1, \"Fa\" : 2, \"TA\" : 3, \"Gd\" : 4, \"Ex\" : 5},\n",
    "                       \"LotShape\" : {\"IR3\" : 1, \"IR2\" : 2, \"IR1\" : 3, \"Reg\" : 4},\n",
    "                       \"Street\" : {\"Grvl\" : 1, \"Pave\" : 2}\n",
    "                       }\n",
    "                     )\n",
    "\n",
    "all_data[\"OverallGrade\"] = all_data[\"OverallQual\"] * all_data[\"OverallCond\"]\n",
    "\n",
    "\n",
    "all_data[\"TotalBath\"] = all_data[\"BsmtFullBath\"] + (0.5 * all_data[\"BsmtHalfBath\"]) + \\\n",
    "all_data[\"FullBath\"] + (0.5 * all_data[\"HalfBath\"])\n",
    "\n",
    "\n",
    "all_data['TotalSF'] = np.log(all_data['TotalSF'])\n",
    "all_data.loc[(all_data[\"MasVnrType\"].isnull()), \"MasVnrType\"] = 'None'\n",
    "\n",
    "all_data['LotArea'] = all_data['LotArea']**2\n",
    "\n",
    "all_data[\"BsmtExposure\"] = all_data[\"BsmtExposure\"].map({None: 0, \"No\": 1, \"Mn\": 2, \"Av\": 3, \"Gd\": 4}).astype(int)\n",
    "all_data[\"Fence\"] = all_data[\"Fence\"].map({None: 0, \"MnWw\": 1, \"GdWo\": 2, \"MnPrv\": 3, \"GdPrv\": 4}).astype(int)\n",
    "all_data[\"HighSeason\"] = all_data[\"MoSold\"].replace( \n",
    "        {1: 0, 2: 0, 3: 0, 4: 1, 5: 1, 6: 1, 7: 1, 8: 0, 9: 0, 10: 0, 11: 0, 12: 0})\n",
    "\n",
    "all_data.loc[all_data.Neighborhood == 'NridgHt', \"Neighborhood_Good\"] = 1\n",
    "all_data.loc[all_data.Neighborhood == 'Crawfor', \"Neighborhood_Good\"] = 1\n",
    "all_data.loc[all_data.Neighborhood == 'StoneBr', \"Neighborhood_Good\"] = 1\n",
    "all_data.loc[all_data.Neighborhood == 'Somerst', \"Neighborhood_Good\"] = 1\n",
    "all_data.loc[all_data.Neighborhood == 'NoRidge', \"Neighborhood_Good\"] = 1\n",
    "all_data[\"Neighborhood_Good\"].fillna(0, inplace=True)\n",
    "\n",
    "\n",
    "standardize_numerical_features(all_data,numerical_features)\n",
    "all_data, dummy_variables = one_hot_categorical(all_data,categorical_features)\n",
    "\n",
    "all_data.drop(['MSZoning_C (all)','MSSubClass_160'],axis=1)\n",
    "\n",
    "#splitting data\n",
    "features = numerical_features + dummy_variables + binary_features\n",
    "y = np.log(all_data.pop('SalePrice'))\n",
    "X = all_data[features]\n",
    "\n",
    "X_train, X_test, y_train, y_test = train_test_split(X, y, test_size=0.33, random_state=42,\n",
    "                                                    stratify=all_data[categorical_features])\n"
   ]
  },
  {
   "cell_type": "code",
   "execution_count": 378,
   "metadata": {
    "collapsed": false,
    "deletable": true,
    "editable": true
   },
   "outputs": [
    {
     "name": "stdout",
     "output_type": "stream",
     "text": [
      "0.168566481414\n",
      "XGBRegressor(base_score=0.5, colsample_bylevel=1, colsample_bytree=1, gamma=4,\n",
      "       learning_rate=0.1, max_delta_step=0, max_depth=4,\n",
      "       min_child_weight=1, missing=None, n_estimators=200, nthread=-1,\n",
      "       objective='reg:linear', reg_alpha=0, reg_lambda=1,\n",
      "       scale_pos_weight=1, seed=42, silent=True, subsample=1)\n"
     ]
    }
   ],
   "source": [
    "#train model\n",
    "estimator = XGB.XGBRegressor(seed=42, max_depth=4, n_estimators=200, learning_rate = 0.1,gamma=4)\n",
    "model = estimator.fit(X_train,y_train)\n",
    "print math.sqrt((mean_squared_error(y_test, model.predict(X_test))))\n",
    "print (model)\n",
    "\n"
   ]
  },
  {
   "cell_type": "code",
   "execution_count": 379,
   "metadata": {
    "collapsed": false,
    "deletable": true,
    "editable": true
   },
   "outputs": [
    {
     "data": {
      "text/plain": [
       "<matplotlib.legend.Legend at 0x10c345650>"
      ]
     },
     "execution_count": 379,
     "metadata": {},
     "output_type": "execute_result"
    },
    {
     "data": {
      "image/png": "[encoded data removed]",
      "text/plain": [
       "<matplotlib.figure.Figure at 0x10bc39950>"
      ]
     },
     "metadata": {},
     "output_type": "display_data"
    }
   ],
   "source": [
    "cv = ShuffleSplit(n_splits=5, test_size=0.2, random_state=0)\n",
    "\n",
    "title = \"Learning Curves (XGB)\"\n",
    "plt.figure()\n",
    "plt.title(title)\n",
    "plt.xlabel(\"Training examples\")\n",
    "plt.ylabel(\"Score\")\n",
    "train_sizes, train_scores, test_scores = learning_curve(\n",
    "   estimator, X, y, cv=cv, n_jobs=1, train_sizes=np.linspace(.1, 1.0, 5))\n",
    "train_scores_mean = np.mean(train_scores, axis=1)\n",
    "train_scores_std = np.std(train_scores, axis=1)\n",
    "test_scores_mean = np.mean(test_scores, axis=1)\n",
    "test_scores_std = np.std(test_scores, axis=1)\n",
    "plt.grid()\n",
    "plt.fill_between(train_sizes, train_scores_mean - train_scores_std,\n",
    "                 train_scores_mean + train_scores_std, alpha=0.1,\n",
    "                 color=\"r\")\n",
    "plt.fill_between(train_sizes, test_scores_mean - test_scores_std,\n",
    "                 test_scores_mean + test_scores_std, alpha=0.1, color=\"g\")\n",
    "plt.plot(train_sizes, train_scores_mean, 'o-', color=\"r\",\n",
    "         label=\"Training score\")\n",
    "plt.plot(train_sizes, test_scores_mean, 'o-', color=\"g\",\n",
    "         label=\"Cross-validation score\")\n",
    "\n",
    "plt.legend(loc=\"best\")\n",
    "\n"
   ]
  },
  {
   "cell_type": "code",
   "execution_count": 380,
   "metadata": {
    "collapsed": false
   },
   "outputs": [],
   "source": [
    "#train model on all data\n",
    "model = estimator.fit(X,y)\n",
    "\n",
    "#Test evaluation\n",
    "#Loading data\n",
    "all_data = pd.read_csv('test.csv')\n",
    "\n",
    "\n",
    "#Declaring features\n",
    "numerical_features = ['TotalSF',\"GrLivArea\",'YearSinceRemodAdd','YearSinceBuilt','TotRmsAbvGrd', 'GarageCars',\n",
    "                      'OverallGrade','TotalBath','LotArea','ExterCond','HeatingQC','BsmtExposure','Fence']\n",
    "categorical_features = ['MSSubClass','MSZoning','Street','LotShape','MasVnrType','SaleCondition','SaleType']\n",
    "binary_features = ['wasRemodAdd','HasBsmt','HighSeason','Neighborhood_Good']\n",
    "#feature engineering\n",
    "\n",
    "create_total_sf(all_data)\n",
    "years_since_built(all_data)\n",
    "compute_years_and_was_remodAdd(all_data)\n",
    "has_basement(all_data)\n",
    "\n",
    "all_data = all_data.replace({\"ExterCond\" : {\"Po\" : 1, \"Fa\" : 2, \"TA\": 3, \"Gd\": 4, \"Ex\" : 5},\n",
    "                       \"HeatingQC\" : {\"Po\" : 1, \"Fa\" : 2, \"TA\" : 3, \"Gd\" : 4, \"Ex\" : 5},\n",
    "                       \"LotShape\" : {\"IR3\" : 1, \"IR2\" : 2, \"IR1\" : 3, \"Reg\" : 4},\n",
    "                       \"Street\" : {\"Grvl\" : 1, \"Pave\" : 2}\n",
    "                       }\n",
    "                     )\n",
    "\n",
    "all_data[\"OverallGrade\"] = all_data[\"OverallQual\"] * all_data[\"OverallCond\"]\n",
    "\n",
    "\n",
    "all_data[\"TotalBath\"] = all_data[\"BsmtFullBath\"] + (0.5 * all_data[\"BsmtHalfBath\"]) + \\\n",
    "all_data[\"FullBath\"] + (0.5 * all_data[\"HalfBath\"])\n",
    "\n",
    "\n",
    "all_data['TotalSF'] = np.log(all_data['TotalSF'])\n",
    "all_data.loc[(all_data[\"MasVnrType\"].isnull()), \"MasVnrType\"] = 'None'\n",
    "\n",
    "all_data['LotArea'] = all_data['LotArea']**2\n",
    "\n",
    "all_data[\"BsmtExposure\"] = all_data[\"BsmtExposure\"].map({None: 0, \"No\": 1, \"Mn\": 2, \"Av\": 3, \"Gd\": 4}).astype(int)\n",
    "all_data[\"Fence\"] = all_data[\"Fence\"].map({None: 0, \"MnWw\": 1, \"GdWo\": 2, \"MnPrv\": 3, \"GdPrv\": 4}).astype(int)\n",
    "all_data[\"HighSeason\"] = all_data[\"MoSold\"].replace( \n",
    "        {1: 0, 2: 0, 3: 0, 4: 1, 5: 1, 6: 1, 7: 1, 8: 0, 9: 0, 10: 0, 11: 0, 12: 0})\n",
    "\n",
    "all_data.loc[all_data.Neighborhood == 'NridgHt', \"Neighborhood_Good\"] = 1\n",
    "all_data.loc[all_data.Neighborhood == 'Crawfor', \"Neighborhood_Good\"] = 1\n",
    "all_data.loc[all_data.Neighborhood == 'StoneBr', \"Neighborhood_Good\"] = 1\n",
    "all_data.loc[all_data.Neighborhood == 'Somerst', \"Neighborhood_Good\"] = 1\n",
    "all_data.loc[all_data.Neighborhood == 'NoRidge', \"Neighborhood_Good\"] = 1\n",
    "all_data[\"Neighborhood_Good\"].fillna(0, inplace=True)\n",
    "\n",
    "\n",
    "standardize_numerical_features(all_data,numerical_features)\n",
    "all_data, dummy_variables = one_hot_categorical(all_data,categorical_features)\n",
    "\n",
    "all_data.drop(['MSZoning_C (all)','MSSubClass_160'],axis=1)\n",
    "\n",
    "#splitting data\n",
    "X = all_data[features]\n",
    "\n",
    "#predicting\n",
    "all_data['SalePrice'] = np.exp(model.predict(X))\n",
    "all_data.loc[:,['Id','SalePrice']].to_csv('result.csv', header=True,index=False)"
   ]
  },
  {
   "cell_type": "code",
   "execution_count": null,
   "metadata": {
    "collapsed": true,
    "deletable": true,
    "editable": true
   },
   "outputs": [],
   "source": []
  },
  {
   "cell_type": "code",
   "execution_count": null,
   "metadata": {
    "collapsed": true
   },
   "outputs": [],
   "source": []
  },
  {
   "cell_type": "code",
   "execution_count": null,
   "metadata": {
    "collapsed": true
   },
   "outputs": [],
   "source": []
  }
 ],
 "metadata": {
  "kernelspec": {
   "display_name": "Python 2",
   "language": "python",
   "name": "python2"
  },
  "language_info": {
   "codemirror_mode": {
    "name": "ipython",
    "version": 2
   },
   "file_extension": ".py",
   "mimetype": "text/x-python",
   "name": "python",
   "nbconvert_exporter": "python",
   "pygments_lexer": "ipython2",
   "version": "2.7.13"
  }
 },
 "nbformat": 4,
 "nbformat_minor": 2
}
