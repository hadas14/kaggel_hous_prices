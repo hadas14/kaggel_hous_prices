{
 "cells": [
  {
   "cell_type": "code",
   "execution_count": 61,
   "metadata": {
    "collapsed": false,
    "deletable": true,
    "editable": true
   },
   "outputs": [],
   "source": [
    "import numpy as np\n",
    "import pandas as pd\n",
    "import seaborn as sns\n",
    "import matplotlib.pyplot as plt\n",
    "from sklearn.model_selection import train_test_split\n",
    "from sklearn.model_selection import GridSearchCV\n",
    "import xgboost as XGB\n",
    "from sklearn.metrics import mean_squared_error\n",
    "from sklearn.metrics import make_scorer\n",
    "from sklearn.model_selection import ShuffleSplit\n",
    "from sklearn.model_selection import learning_curve\n",
    "import math\n",
    "%matplotlib inline\n"
   ]
  },
  {
   "cell_type": "code",
   "execution_count": 5,
   "metadata": {
    "collapsed": true,
    "deletable": true,
    "editable": true
   },
   "outputs": [],
   "source": [
    "def create_total_sf(df):\n",
    "    df['TotalSF'] = df['TotalBsmtSF'] + df['1stFlrSF'] + df['2ndFlrSF'] \n",
    "    "
   ]
  },
  {
   "cell_type": "code",
   "execution_count": 6,
   "metadata": {
    "collapsed": false,
    "deletable": true,
    "editable": true
   },
   "outputs": [],
   "source": [
    "def standardize_numerical_features(df,feature_list):\n",
    "    for feature in feature_list:\n",
    "        feature_series= df.loc[:,feature]\n",
    "        df.loc[:,feature] = (feature_series - feature_series.mean())/feature_series.std()"
   ]
  },
  {
   "cell_type": "code",
   "execution_count": 7,
   "metadata": {
    "collapsed": false,
    "deletable": true,
    "editable": true
   },
   "outputs": [],
   "source": [
    "def get_dfs_for_prediction(features, train,test, all_data):\n",
    "    #creating matrices for sklearn:\n",
    "    y_train = train.SalePrice\n",
    "    y_test = test.SalePrice\n",
    "    y_all_data = all_data.SalePrice\n",
    "    X_train = train[features]\n",
    "    X_test = test[features]\n",
    "    X_all_data = all_data[features]\n",
    "    return y_train, y_test, y_all_data, X_train, X_test, X_all_data\n"
   ]
  },
  {
   "cell_type": "code",
   "execution_count": 82,
   "metadata": {
    "collapsed": false,
    "deletable": true,
    "editable": true
   },
   "outputs": [
    {
     "name": "stdout",
     "output_type": "stream",
     "text": [
      "0.221550752966\n",
      "XGBRegressor(base_score=0.5, colsample_bylevel=1, colsample_bytree=1, gamma=0,\n",
      "       learning_rate=0.15, max_delta_step=0, max_depth=1,\n",
      "       min_child_weight=1, missing=None, n_estimators=100, nthread=-1,\n",
      "       objective='reg:linear', reg_alpha=0, reg_lambda=1,\n",
      "       scale_pos_weight=1, seed=42, silent=True, subsample=1)\n"
     ]
    }
   ],
   "source": [
    "train = pd.read_csv('our_train.csv')\n",
    "test = pd.read_csv('our_validation.csv')\n",
    "all_data = train.append(test)\n",
    "\n",
    "\n",
    "create_total_sf(train)\n",
    "standardize_numerical_features(train,['TotalSF',\"GrLivArea\"])\n",
    "create_total_sf(test)\n",
    "standardize_numerical_features(test,['TotalSF',\"GrLivArea\"])\n",
    "create_total_sf(all_data)\n",
    "standardize_numerical_features(all_data,['TotalSF',\"GrLivArea\"])\n",
    "\n",
    "\n",
    "parameters = {}\n",
    "features = ['TotalSF',\"GrLivArea\"]\n",
    "\n",
    "\n",
    "y_train, y_test, y_all_data, X_train, X_test, X_all_data = get_dfs_for_prediction(features, train, test, all_data)\n",
    "\n",
    "target =\"SalePrice\"\n",
    "estimator = XGB.XGBRegressor(seed=42, max_depth=1, n_estimators=100, learning_rate = 0.15)\n",
    "model = estimator.fit(X_train,np.log(y_train))\n",
    "print math.sqrt((mean_squared_error(np.log(y_test), model.predict(X_test))))\n",
    "print (model)\n",
    "\n"
   ]
  },
  {
   "cell_type": "code",
   "execution_count": 79,
   "metadata": {
    "collapsed": false,
    "deletable": true,
    "editable": true
   },
   "outputs": [
    {
     "data": {
      "text/plain": [
       "<matplotlib.legend.Legend at 0x113668d90>"
      ]
     },
     "execution_count": 79,
     "metadata": {},
     "output_type": "execute_result"
    },
    {
     "data": {
      "image/png": "[encoded data removed]",
      "text/plain": [
       "<matplotlib.figure.Figure at 0x113f38790>"
      ]
     },
     "metadata": {},
     "output_type": "display_data"
    }
   ],
   "source": [
    "cv = ShuffleSplit(n_splits=5, test_size=0.2, random_state=0)\n",
    "\n",
    "title = \"Learning Curves (XGB)\"\n",
    "plt.figure()\n",
    "plt.title(title)\n",
    "plt.xlabel(\"Training examples\")\n",
    "plt.ylabel(\"Score\")\n",
    "train_sizes, train_scores, test_scores = learning_curve(\n",
    "    XGB.XGBRegressor(seed=42, max_depth=1,n_estimators=100, learning_rate = 0.15), X_all_data, y_all_data, cv=cv, n_jobs=1, train_sizes=np.linspace(.1, 1.0, 5))\n",
    "train_scores_mean = np.mean(train_scores, axis=1)\n",
    "train_scores_std = np.std(train_scores, axis=1)\n",
    "test_scores_mean = np.mean(test_scores, axis=1)\n",
    "test_scores_std = np.std(test_scores, axis=1)\n",
    "plt.grid()\n",
    "plt.fill_between(train_sizes, train_scores_mean - train_scores_std,\n",
    "                 train_scores_mean + train_scores_std, alpha=0.1,\n",
    "                 color=\"r\")\n",
    "plt.fill_between(train_sizes, test_scores_mean - test_scores_std,\n",
    "                 test_scores_mean + test_scores_std, alpha=0.1, color=\"g\")\n",
    "plt.plot(train_sizes, train_scores_mean, 'o-', color=\"r\",\n",
    "         label=\"Training score\")\n",
    "plt.plot(train_sizes, test_scores_mean, 'o-', color=\"g\",\n",
    "         label=\"Cross-validation score\")\n",
    "\n",
    "plt.legend(loc=\"best\")\n",
    "\n"
   ]
  },
  {
   "cell_type": "code",
   "execution_count": null,
   "metadata": {
    "collapsed": true
   },
   "outputs": [],
   "source": []
  },
  {
   "cell_type": "code",
   "execution_count": null,
   "metadata": {
    "collapsed": true,
    "deletable": true,
    "editable": true
   },
   "outputs": [],
   "source": []
  }
 ],
 "metadata": {
  "kernelspec": {
   "display_name": "Python 2",
   "language": "python",
   "name": "python2"
  },
  "language_info": {
   "codemirror_mode": {
    "name": "ipython",
    "version": 2
   },
   "file_extension": ".py",
   "mimetype": "text/x-python",
   "name": "python",
   "nbconvert_exporter": "python",
   "pygments_lexer": "ipython2",
   "version": "2.7.13"
  }
 },
 "nbformat": 4,
 "nbformat_minor": 2
}
