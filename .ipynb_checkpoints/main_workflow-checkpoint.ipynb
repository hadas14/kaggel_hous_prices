{
 "cells": [
  {
   "cell_type": "code",
   "execution_count": 1,
   "metadata": {
    "collapsed": true
   },
   "outputs": [],
   "source": [
    "def train_model(train,features,parameters):\n",
    "    select_train = train[[features]]\n",
    "    estimator = GaussianNB()\n",
    "    parameters = {}\n",
    "    model = GridSearchCV(estimator, param_grid=parameters, scoring=scoring)\n",
    "    model.fit(train.drop(['SalePrice'], axis=1), train['SalePrice'])\n",
    "    return model.best_estimator_"
   ]
  },
  {
   "cell_type": "code",
   "execution_count": 2,
   "metadata": {
    "collapsed": true
   },
   "outputs": [],
   "source": [
    "def feature_preprocess(train, test, preprocess_steps):\n",
    "    features = []\n",
    "    for step in preprocess_steps:\n",
    "        features.append(step(train, test))\n",
    "    return features"
   ]
  },
  {
   "cell_type": "code",
   "execution_count": null,
   "metadata": {
    "collapsed": true
   },
   "outputs": [],
   "source": [
    "preprocess_steps = []\n",
    "features = feature_preprocess(train, test, preprocess_steps)\n",
    "parameters = {}\n",
    "model = train_model(train,features,parameters)\n",
    "evaluate(model)"
   ]
  }
 ],
 "metadata": {
  "kernelspec": {
   "display_name": "Python 2",
   "language": "python",
   "name": "python2"
  },
  "language_info": {
   "codemirror_mode": {
    "name": "ipython",
    "version": 2
   },
   "file_extension": ".py",
   "mimetype": "text/x-python",
   "name": "python",
   "nbconvert_exporter": "python",
   "pygments_lexer": "ipython2",
   "version": "2.7.13"
  }
 },
 "nbformat": 4,
 "nbformat_minor": 2
}
